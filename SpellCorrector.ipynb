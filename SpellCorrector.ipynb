{
 "cells": [
  {
   "cell_type": "code",
   "execution_count": 1,
   "metadata": {},
   "outputs": [
    {
     "name": "stdout",
     "output_type": "stream",
     "text": [
      "Requirement already up-to-date: textblob in c:\\users\\user\\.conda\\new\\lib\\site-packages (0.15.3)\n",
      "Requirement already satisfied, skipping upgrade: nltk>=3.1 in c:\\users\\user\\.conda\\new\\lib\\site-packages (from textblob) (3.4.5)\n",
      "Requirement already satisfied, skipping upgrade: six in c:\\users\\user\\.conda\\new\\lib\\site-packages (from nltk>=3.1->textblob) (1.14.0)\n"
     ]
    }
   ],
   "source": [
    "!pip install -U textblob\n"
   ]
  },
  {
   "cell_type": "code",
   "execution_count": 2,
   "metadata": {},
   "outputs": [],
   "source": [
    "#import all functions/classes from the tkinter\n",
    "from tkinter import *\n",
    "from textblob import TextBlob\n"
   ]
  },
  {
   "cell_type": "code",
   "execution_count": 3,
   "metadata": {},
   "outputs": [],
   "source": [
    "#Function to clear both the text entry boxes\n",
    "def clearAll():\n",
    "    #whole content of text entry area is deleted\n",
    "    word1_field.delete(0,END)\n",
    "    word2_field.delete(0,END)\n",
    "    "
   ]
  },
  {
   "cell_type": "code",
   "execution_count": 4,
   "metadata": {},
   "outputs": [],
   "source": [
    "#Function to get a corrected word\n",
    "def correction():\n",
    "    #get a content from entry box\n",
    "    input_word=word1_field.get()\n",
    "    #create a TextBlob object\n",
    "    blob_obj=TextBlob(input_word)\n",
    "    #get a corrected word\n",
    "    corrected_word=str(blob_obj.correct())\n",
    "    #insert method inserting the value in the text entry box.\n",
    "    word2_field.insert(10,corrected_word)"
   ]
  },
  {
   "cell_type": "code",
   "execution_count": 5,
   "metadata": {},
   "outputs": [],
   "source": [
    "#Driver code\n",
    "if __name__==\"__main__\" :\n",
    "    #Create a GUI window\n",
    "    root=Tk()\n",
    "    #Set the background color of GUI window\n",
    "    root.configure(background='black')\n",
    "    #Set the configuration of GUI window (widthxHeight)\n",
    "    root.geometry (\"400x150\")\n",
    "    #set the name of tkinter GUI window\n",
    "    root.title(\"Spell Corrector\")\n",
    "    #Create welcome to spell corrector application :label\n",
    "    headlabel=Label(root,text='Welcome to spell corrector application',\n",
    "                   fg='black',bg=\"red\")\n",
    "    #Create a \"Input word\":label\n",
    "    label1=Label(root,text=\"Input Word\",fg='black',bg='dark green')\n",
    "    #Create a \"Corrected Word\":label\n",
    "    label2=Label(root,text=\"Corrected Word\",\n",
    "                fg='black',bg='dark green')"
   ]
  },
  {
   "cell_type": "code",
   "execution_count": 6,
   "metadata": {},
   "outputs": [],
   "source": [
    "#grid method is used for placing\n",
    "#the widgets at respective positions\n",
    "#in table like structure\n",
    "headlabel.grid(row=0,column=1)\n",
    "label1.grid(row=1,column=0,padx=10)\n"
   ]
  },
  {
   "cell_type": "code",
   "execution_count": 7,
   "metadata": {},
   "outputs": [],
   "source": [
    "#Create a text entry box\n",
    "#for filling or typing the information\n",
    "word1_field=Entry()\n",
    "word2_field=Entry()\n",
    "\n"
   ]
  },
  {
   "cell_type": "code",
   "execution_count": 8,
   "metadata": {},
   "outputs": [],
   "source": [
    "#padx keyboard argument used to set padding along x-axis\n",
    "#padx keyboard argument used to set padding along y-axis\n",
    "word1_field.grid(row=1,column=1,padx=10,pady=10)\n",
    "word2_field.grid(row=3,column=1,padx=10,pady=10)\n"
   ]
  },
  {
   "cell_type": "code",
   "execution_count": 9,
   "metadata": {},
   "outputs": [],
   "source": [
    "#Create a Correction Button and attached\n",
    "#with correction function\n",
    "button1=Button(root,text=\"Correction\",bg=\"red\",fg=\"black\",\n",
    "              command=correction)\n",
    "button1.grid(row=2,column=1)\n"
   ]
  },
  {
   "cell_type": "code",
   "execution_count": null,
   "metadata": {},
   "outputs": [],
   "source": [
    "#Create a clear Button and attached\n",
    "#with clearall function \n",
    "button2=Button(root,text=\"Clear\",bg=\"red\",\n",
    "              fg=\"black\",command=clearAll)\n",
    "button2.grid(row=4,column=1)\n",
    "#Start the GUI\n",
    "root.mainloop()"
   ]
  },
  {
   "cell_type": "code",
   "execution_count": null,
   "metadata": {},
   "outputs": [],
   "source": []
  },
  {
   "cell_type": "code",
   "execution_count": null,
   "metadata": {},
   "outputs": [],
   "source": []
  }
 ],
 "metadata": {
  "kernelspec": {
   "display_name": "Python 3",
   "language": "python",
   "name": "python3"
  },
  "language_info": {
   "codemirror_mode": {
    "name": "ipython",
    "version": 3
   },
   "file_extension": ".py",
   "mimetype": "text/x-python",
   "name": "python",
   "nbconvert_exporter": "python",
   "pygments_lexer": "ipython3",
   "version": "3.7.6"
  }
 },
 "nbformat": 4,
 "nbformat_minor": 4
}
